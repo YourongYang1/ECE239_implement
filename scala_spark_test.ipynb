{
 "cells": [
  {
   "cell_type": "code",
   "execution_count": 1,
   "id": "c0040a2c",
   "metadata": {},
   "outputs": [
    {
     "data": {
      "text/plain": [
       "Intitializing Scala interpreter ..."
      ]
     },
     "metadata": {},
     "output_type": "display_data"
    },
    {
     "data": {
      "text/plain": [
       "Spark Web UI available at http://192.168.1.195:4040\n",
       "SparkContext available as 'sc' (version = 3.2.3, master = local[*], app id = local-1670117534683)\n",
       "SparkSession available as 'spark'\n"
      ]
     },
     "metadata": {},
     "output_type": "display_data"
    },
    {
     "data": {
      "text/plain": [
       "res0: Int = 2\n"
      ]
     },
     "execution_count": 1,
     "metadata": {},
     "output_type": "execute_result"
    }
   ],
   "source": [
    "1+1"
   ]
  },
  {
   "cell_type": "code",
   "execution_count": 2,
   "id": "f16acdb1",
   "metadata": {},
   "outputs": [
    {
     "data": {
      "text/plain": [
       "import breeze.linalg._\n",
       "import breeze.stats.distributions._\n",
       "import scala.math\n",
       "import java.io._\n"
      ]
     },
     "execution_count": 2,
     "metadata": {},
     "output_type": "execute_result"
    }
   ],
   "source": [
    "import breeze.linalg._\n",
    "import breeze.stats.distributions._\n",
    "import scala.math\n",
    "import java.io._"
   ]
  },
  {
   "cell_type": "code",
   "execution_count": 3,
   "id": "610ecad6",
   "metadata": {},
   "outputs": [
    {
     "data": {
      "text/plain": [
       "h: Double = 0.02\n",
       "k: Double = 0.053182958969449884\n",
       "M: Int = 256\n",
       "grid: breeze.linalg.DenseVector[Double] = DenseVector(-13.61483749617917, -13.561654537209721, -13.50847157824027, -13.45528861927082, -13.402105660301372, -13.34892270133192, -13.295739742362471, -13.24255678339302, -13.189373824423571, -13.136190865454122, -13.08300790648467, -13.029824947515221, -12.976641988545772, -12.923459029576321, -12.870276070606872, -12.817093111637423, -12.763910152667972, -12.710727193698522, -12.657544234729073, -12.604361275759622, -12.551178316790173, -12.497995357820722, -12.444812398851273, -12.391629439881823, -12.338446480912372, -12.285263521942923, -12.232080562973474, -12.178897604004023, -12.125714645034574, -12.072531686065124, -12.019348727095673, -11.966165768126224, -11.9129828091...\n"
      ]
     },
     "execution_count": 3,
     "metadata": {},
     "output_type": "execute_result"
    }
   ],
   "source": [
    "// global parameters\n",
    "val h: Double = 0.02\n",
    "val k: Double = math.pow(h,0.75)\n",
    "val M: Int = (math.Pi/math.pow(k,1.5)).toInt\n",
    "val grid = k*linspace(-M,M,2*M+1)\n",
    "val irange = convert(linspace(0,2*M,2*M+1),Int) \n",
    "val gamma: Int = 25\n",
    "\n",
    "def drift(theta: DenseVector[Double], x: Double) = {\n",
    "    val f = theta(0)*(theta(1) - x)\n",
    "    f\n",
    "}\n",
    "\n",
    "def driftV(theta: DenseVector[Double], x: DenseVector[Double]) = {\n",
    "    val f = theta(0)*(theta(1) - x)\n",
    "    f\n",
    "}\n",
    "\n",
    "def diffusion(theta: DenseVector[Double], x: Double) = {\n",
    "    val g = theta(2)\n",
    "    g\n",
    "}\n",
    "\n",
    "def diffusionV(theta: DenseVector[Double], x: DenseVector[Double]) = {\n",
    "    val g = (DenseVector.ones[Double](x.size))*theta(2)\n",
    "    g\n",
    "}\n",
    "\n",
    "def firststep(theta: DenseVector[Double], y: Double) = {\n",
    "    val mu = y + h*drift(theta,y)\n",
    "    val sigma = math.abs(diffusion(theta,y))*math.sqrt(h)\n",
    "    val g = Gaussian(mu,sigma)\n",
    "    g.pdf(grid)\n",
    "}\n",
    "\n",
    "// pdf with vectors of means and variances, evaluated at one grid pt\n",
    "def ourgauss(theta: DenseVector[Double], x: Double, y: DenseVector[Double]) = {\n",
    "    val mu = y + h*driftV(theta,y)\n",
    "    val thisdiff = diffusionV(theta,y)\n",
    "    val sigma2 = (thisdiff :*= thisdiff)*h \n",
    "    val xmu = x - mu\n",
    "    val xmu2 = xmu :*= xmu \n",
    "    val denom = math.sqrt(2.0*math.Pi*h)*thisdiff.map(math.abs)\n",
    "    val exparg = -(xmu2 /:/ (2.0*sigma2))\n",
    "    val pdf = exparg.map(math.exp) /:/ denom\n",
    "    pdf\n",
    "}\n",
    "\n",
    "// generate one row of the \"K\" matrix\n",
    "def genonerow(theta: DenseVector[Double], i: Int, gamma: Int) = {\n",
    "    val j = i - M\n",
    "    val x = j*k\n",
    "    val y = k*linspace(j-gamma,j+gamma,(2*gamma+1))\n",
    "    k*ourgauss(theta,x,y)\n",
    "}\n",
    "\n",
    "// intelligent subsetting of a vector\n",
    "def mysubset(x: DenseVector[Double], i: Int) = {\n",
    "    if (i < 0) 0.0\n",
    "    else if (i >= x.size) 0.0\n",
    "    else x(i)\n",
    "}\n",
    "\n",
    "// given a vector of length N, create i-th vector of length 2*gamma+1\n",
    "def gammawindow(x: DenseVector[Double], i: Int, gamma: Int) = {\n",
    "    val grange = convert(linspace(i-gamma,i+gamma,(2*gamma+1)),Int)\n",
    "    val outvec = grange.map(mysubset(x,_:Int))\n",
    "    outvec\n",
    "}\n",
    "\n",
    "// given the parameter vector \\theta and propagator\n",
    "// given two data points, (t_j,x_j) and (t_{j+1},x_{j+1}), this function\n",
    "// starts off with a delta function centered at x_j at time t_j, and\n",
    "// steps the density forward in time until t_{j+1}, where it is evaluated\n",
    "// at the point x_{j+1}\n",
    "def denevolve(propagator: DenseVector[DenseVector[Double]], theta: DenseVector[Double], txvec: DenseVector[(Double,Double)]) = {\n",
    "    var px = firststep(theta,txvec(0)._2)\n",
    "    val T: Double = txvec(1)._1 - txvec(0)._1\n",
    "    val numsteps: Int = (math.ceil(T/h).toInt) - 2\n",
    "    for (i <- 1 to numsteps) {\n",
    "      val allwins = irange.map(gammawindow(px,_:Int,gamma))\n",
    "      px = propagator dot allwins\n",
    "    }\n",
    "    val finalrow = k*ourgauss(theta,txvec(1)._2,grid)\n",
    "    finalrow dot px\n",
    "}\n",
    "\n",
    "// this function takes x and theta and computes the log likelihood\n",
    "def loglik(theta: DenseVector[Double], txvec: DenseVector[(Double,Double)]) = {\n",
    "    val trange = convert(linspace(0,txvec.size-2,txvec.size-1),Int)\n",
    "    val tslices = trange.map(x => txvec(x to (x+1))).toArray\n",
    "    val tslicesRDD = sc.parallelize(tslices)\n",
    "\n",
    "    // compute the propagator\n",
    "    val prop = irange.map(genonerow(theta,_:Int,gamma))\n",
    "\n",
    "    // apply denevolve to each consecutive pair of time series points\n",
    "   // val indivdens = tslicesRDD.map(denevolve(prop,theta,_))\n",
    "    val indivdens = tslices.map(denevolve(prop,theta,_))\n",
    "\n",
    "    // compute overall log likelihood\n",
    "    //sum(DenseVector(indivdens.collect()).map(math.log))\n",
    "   sum(DenseVector(indivdens).map(math.log))\n",
    "}\n",
    "\n",
    "// this function computes p(y | x, sigma_eps^2)\n",
    "def filtlik(tyvec: DenseVector[(Double,Double)], txvec: DenseVector[(Double,Double)], sigeps2: Double) = {\n",
    "    val y = tyvec.map(x => x._2)\n",
    "    val x = txvec.map(x => x._2)\n",
    "\n",
    "    val normcon = -0.5*math.log(2.0*math.Pi*sigeps2)\n",
    "    val xmy = x - y\n",
    "    val xmy2 = xmy :*= xmy\n",
    "    val normmain = -xmy2/(2*sigeps2)\n",
    "    \n",
    "    normcon*normmain.size + sum(normmain)\n",
    "}\n",
    "\n",
    "// prior for theta\n",
    "def thetaprior(theta: DenseVector[Double]) = {\n",
    "    val prior1 = Gaussian(0.5,1)\n",
    "    val prior2 = Gaussian(2.0,10.0)\n",
    "    prior1.logPdf(theta(0)) + prior2.logPdf(theta(1))\n",
    "}\n",
    "\n",
    "// prior for sigeps2\n",
    "def sigeps2prior(sigeps2: Double) = {\n",
    "    val prior = Exponential(1.0)\n",
    "    prior.logPdf(sigeps2)\n",
    "}\n",
    "\n",
    "// auxiliary function that takes two vectors and creates a vector of tuples\n",
    "def vec2tuples(v1: DenseVector[Double], v2: DenseVector[Double]) = {\n",
    "    val bigvec = DenseVector.vertcat(v1,v2)\n",
    "    val txs = v1.size\n",
    "    val myrange = convert(linspace(0,txs-1,txs),Int)\n",
    "    myrange.map( i => (bigvec(i),bigvec(i+txs)) )\n",
    "}\n",
    "\n",
    "def fulllik(tyvec: DenseVector[(Double,Double)], txvec: DenseVector[(Double,Double)], theta: DenseVector[Double], sigeps2: Double) = {\n",
    "    var lik = loglik(theta, txvec)\n",
    "    lik += filtlik(tyvec, txvec, sigeps2)\n",
    "    lik += thetaprior(theta)\n",
    "    lik += sigeps2prior(sigeps2)\n",
    "    lik\n",
    "}\n",
    "\n",
    "val xvecproposal = new Gaussian(0.0,0.02)\n",
    "val thetaproposal = new Gaussian(0.0,0.05)\n",
    "val sigeps2proposal = new Gaussian(0.0,0.02)\n",
    "val metro = new Uniform(0,1)\n",
    "\n",
    "// generate one metropolis sample\n",
    "// must pass in tyvec, the data\n",
    "// and also the previous iteration's values for txvec, theta, sigeps2\n",
    "// and the old likelihood \n",
    "def metropolis(tyvec: DenseVector[(Double,Double)], txvec: DenseVector[(Double,Double)], theta: DenseVector[Double], sigeps2: Double, oldlik: Double) = {\n",
    "\n",
    "    // create proposal\n",
    "    val xvec = txvec.map(x => x._2)\n",
    "    val xvecstar = xvec + DenseVector(xvecproposal.sample(xvec.size).toArray)\n",
    "    val txvecstar = vec2tuples(txvec.map(x=>x._1),xvecstar)\n",
    "    var thetastar = DenseVector[Double](theta(0),theta(1),math.log(theta(2)))\n",
    "    thetastar = thetastar + DenseVector(thetaproposal.sample(theta.size).toArray)\n",
    "    thetastar(2) = 0.25\n",
    "    val sigeps2star = math.exp(math.log(sigeps2) + sigeps2proposal.sample(1)(0))\n",
    "\n",
    "    // evaluate likelihood\n",
    "    val likstar = fulllik(tyvec, txvecstar, thetastar, sigeps2star)\n",
    "\n",
    "    // accept/reject step\n",
    "    val u = metro.sample(1)(0)\n",
    "    val ratio = math.exp(likstar - oldlik)\n",
    "    if (ratio > u)\n",
    "        (1,txvecstar,thetastar,sigeps2star,likstar)\n",
    "    else\n",
    "        (0,txvec,theta,sigeps2,oldlik)\n",
    "}\n",
    "\n",
    "// aux function to output vector to file\n",
    "def outvec(v: DenseVector[Double], fname: String) = {\n",
    "    val pw = new PrintWriter(new FileOutputStream(new File(fname),true))\n",
    "    pw.write(v.foldLeft(\"\")((a,b) => a+b.toString+',').toString.stripSuffix(\",\"))\n",
    "    pw.write(\"\\n\")\n",
    "    pw.close\n",
    "    0\n",
    "}\n",
    "\n",
    "// mcmc loop\n",
    "def mcmc(timeseries: DenseVector[(Double,Double)], numsamples: Int) = {\n",
    "    // initial value of theta\n",
    "    var theta: DenseVector[Double] = DenseVector(1.0,0.1,0.25)\n",
    "\n",
    "    // initial value of txvec\n",
    "    var txvec: DenseVector[(Double,Double)] = timeseries.copy\n",
    "\n",
    "    // initial value of sigeps2\n",
    "    var sigeps2: Double = 1.0\n",
    "\n",
    "    // compute initial likelihood\n",
    "    var lik = fulllik(timeseries, txvec, theta, sigeps2)\n",
    "\n",
    "    // initial value of accept/ratio flag\n",
    "    var accept = 1\n",
    "\n",
    "    for (i <- 1 to numsamples) {\n",
    "        // concatenate everything and save to disk\n",
    "        var everything = DenseVector.vertcat(theta,txvec.map(x => x._2))\n",
    "        everything = DenseVector.vertcat(everything,DenseVector(sigeps2))\n",
    "        everything = DenseVector.vertcat(everything,DenseVector(lik))\n",
    "        everything = DenseVector.vertcat(everything,DenseVector(accept))\n",
    "        val tmp = outvec(everything,\"mcmc.out\")\n",
    "\n",
    "        // take a metropolis step\n",
    "        val metrostep = metropolis(timeseries, txvec, theta, sigeps2, lik)\n",
    "        accept = metrostep._1\n",
    "        if (accept == 1) {\n",
    "            txvec = metrostep._2\n",
    "            theta = metrostep._3\n",
    "            sigeps2 = metrostep._4\n",
    "            lik = metrostep._5\n",
    "        }\n",
    "    }\n",
    "    0\n",
    "    println(\"Finished\")\n",
    "}\n",
    "\n"
   ]
  },
  {
   "cell_type": "code",
   "execution_count": 4,
   "id": "47081620",
   "metadata": {},
   "outputs": [
    {
     "data": {
      "text/plain": [
       "import scala.io.Source\n",
       "tvecarr: Array[Array[String]] = Array(Array(0, 0.2, 0.4, 0.6, 0.8, 1, 1.2, 1.4, 1.6, 1.8, 2, 2.2, 2.4, 2.6, 2.8, 3, 3.2, 3.4, 3.6, 3.8, 4, 4.2, 4.4, 4.6, 4.8, 5, 5.2, 5.4, 5.6, 5.8, 6, 6.2, 6.4, 6.6, 6.8, 7, 7.2, 7.4, 7.6, 7.8, 8, 8.2, 8.4, 8.6, 8.8, 9, 9.2, 9.4, 9.6, 9.8, 10, 10.2, 10.4, 10.6, 10.8, 11, 11.2, 11.4, 11.6, 11.8, 12, 12.2, 12.4, 12.6, 12.8, 13, 13.2, 13.4, 13.6, 13.8, 14, 14.2, 14.4, 14.6, 14.8, 15, 15.2, 15.4, 15.6, 15.8, 16, 16.2, 16.4, 16.6, 16.8, 17, 17.2, 17.4, 17.6, 17.8, 18, 18.2, 18.4, 18.6, 18.8, 19, 19.2, 19.4, 19.6, 19.8, 20, 20.2, 20.4, 20.6, 20.8, 21, 21.2, 21.4, 21.6, 21.8, 22, 22.2, 22.4, 22.6, 22.8, 23, 23.2, 23.4, 23.6, 23.8, 24, 24.2, 24.4, 24.6, 24.8, 25, 25.2, 25.4, 25.6, 25.8, 26, 26.2, 26.4, 26.6, 26.8, 27, 27.2, 27.4, 27.6, 27...\n"
      ]
     },
     "execution_count": 4,
     "metadata": {},
     "output_type": "execute_result"
    }
   ],
   "source": [
    "// fake data created in R\n",
    "import scala.io.Source\n",
    "val tvecarr = Source.fromFile(\"tvec.csv\").getLines.map(_.split(\",\")).toArray\n",
    "val t = DenseVector[Double](tvecarr(0).map(_.toDouble))\n",
    "val yvecarr = Source.fromFile(\"xvec.csv\").getLines.map(_.split(\",\")).toArray\n",
    "val y = DenseVector[Double](yvecarr(0).map(_.toDouble))\n",
    "\n",
    "val timeseries = vec2tuples(t,y)\n",
    "\n",
    "// run mcmc\n",
    "val mcmcout = mcmc(timeseries,1000)\n",
    "\n",
    "//System.exit(0)\n",
    "\n"
   ]
  },
  {
   "cell_type": "code",
   "execution_count": null,
   "id": "e39143a9",
   "metadata": {},
   "outputs": [],
   "source": []
  }
 ],
 "metadata": {
  "kernelspec": {
   "display_name": "spylon-kernel",
   "language": "scala",
   "name": "spylon-kernel"
  },
  "language_info": {
   "codemirror_mode": "text/x-scala",
   "file_extension": ".scala",
   "help_links": [
    {
     "text": "MetaKernel Magics",
     "url": "https://metakernel.readthedocs.io/en/latest/source/README.html"
    }
   ],
   "mimetype": "text/x-scala",
   "name": "scala",
   "pygments_lexer": "scala",
   "version": "0.4.1"
  }
 },
 "nbformat": 4,
 "nbformat_minor": 5
}
